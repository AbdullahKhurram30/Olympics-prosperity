{
 "cells": [
  {
   "attachments": {},
   "cell_type": "markdown",
   "metadata": {},
   "source": [
    "# Importing packages"
   ]
  },
  {
   "cell_type": "code",
   "execution_count": 12,
   "metadata": {
    "vscode": {
     "languageId": "r"
    }
   },
   "outputs": [],
   "source": [
    "library(Synth)"
   ]
  },
  {
   "attachments": {},
   "cell_type": "markdown",
   "metadata": {},
   "source": [
    "# Importing the dataset"
   ]
  },
  {
   "cell_type": "code",
   "execution_count": 2,
   "metadata": {
    "vscode": {
     "languageId": "r"
    }
   },
   "outputs": [
    {
     "data": {
      "text/html": [
       "<table class=\"dataframe\">\n",
       "<caption>A data.frame: 6 × 19</caption>\n",
       "<thead>\n",
       "\t<tr><th></th><th scope=col>id</th><th scope=col>country</th><th scope=col>year</th><th scope=col>gdp_per_capita</th><th scope=col>million_population</th><th scope=col>cpi</th><th scope=col>exchange_rate</th><th scope=col>land_area</th><th scope=col>tourism_expenditures</th><th scope=col>exports_percentage</th><th scope=col>labor_force</th><th scope=col>national_expenditures_percentage</th><th scope=col>capital_formulation</th><th scope=col>capital_formulation_percentage</th><th scope=col>adj_national_income</th><th scope=col>trade_percentage</th><th scope=col>unemployment</th><th scope=col>urban_pop_percentage</th><th scope=col>urban_pop</th></tr>\n",
       "\t<tr><th></th><th scope=col>&lt;int&gt;</th><th scope=col>&lt;chr&gt;</th><th scope=col>&lt;int&gt;</th><th scope=col>&lt;dbl&gt;</th><th scope=col>&lt;dbl&gt;</th><th scope=col>&lt;dbl&gt;</th><th scope=col>&lt;dbl&gt;</th><th scope=col>&lt;dbl&gt;</th><th scope=col>&lt;dbl&gt;</th><th scope=col>&lt;dbl&gt;</th><th scope=col>&lt;int&gt;</th><th scope=col>&lt;dbl&gt;</th><th scope=col>&lt;dbl&gt;</th><th scope=col>&lt;dbl&gt;</th><th scope=col>&lt;dbl&gt;</th><th scope=col>&lt;dbl&gt;</th><th scope=col>&lt;dbl&gt;</th><th scope=col>&lt;dbl&gt;</th><th scope=col>&lt;dbl&gt;</th></tr>\n",
       "</thead>\n",
       "<tbody>\n",
       "\t<tr><th scope=row>1</th><td>1</td><td>Argentina</td><td>1986</td><td>3607.821</td><td>30.75760</td><td>-0.1</td><td>0.000094</td><td>2736690</td><td> 9.738351</td><td> 8.161978</td><td> 1281793</td><td>98.16208</td><td>5.20e+10</td><td>17.46176</td><td>9.75e+10</td><td>14.48603</td><td>3.80</td><td>85.445</td><td>26272907</td></tr>\n",
       "\t<tr><th scope=row>2</th><td>1</td><td>Argentina</td><td>1987</td><td>3559.219</td><td>31.21467</td><td> 0.8</td><td>0.000214</td><td>2736690</td><td>11.651680</td><td> 7.873206</td><td>13075206</td><td>99.70256</td><td>5.18e+10</td><td>19.55487</td><td>9.69e+10</td><td>15.44897</td><td>4.68</td><td>85.843</td><td>26797140</td></tr>\n",
       "\t<tr><th scope=row>3</th><td>1</td><td>Argentina</td><td>1988</td><td>3982.444</td><td>31.67315</td><td> 0.3</td><td>0.000875</td><td>2736690</td><td>13.905003</td><td> 9.531613</td><td>13349351</td><td>96.68023</td><td>6.60e+10</td><td>18.64004</td><td>1.11e+11</td><td>15.74346</td><td>7.95</td><td>86.233</td><td>27327921</td></tr>\n",
       "\t<tr><th scope=row>4</th><td>1</td><td>Argentina</td><td>1989</td><td>2382.561</td><td>32.12968</td><td> 0.5</td><td>0.042334</td><td>2736690</td><td>16.011237</td><td>13.058409</td><td>13417468</td><td>93.52114</td><td>8.88e+10</td><td>15.51470</td><td>6.19e+10</td><td>19.63780</td><td>4.92</td><td>86.613</td><td>27859735</td></tr>\n",
       "\t<tr><th scope=row>5</th><td>1</td><td>Argentina</td><td>1990</td><td>4330.959</td><td>32.58085</td><td>-0.6</td><td>0.487589</td><td>2736690</td><td>18.325249</td><td>10.359537</td><td>13631248</td><td>94.27178</td><td>9.01e+10</td><td>13.99698</td><td>1.20e+11</td><td>14.99086</td><td>5.23</td><td>86.984</td><td>28389540</td></tr>\n",
       "\t<tr><th scope=row>6</th><td>1</td><td>Argentina</td><td>1991</td><td>5730.724</td><td>33.02855</td><td>-1.2</td><td>0.953554</td><td>2736690</td><td>20.057398</td><td> 7.675043</td><td>13851438</td><td>98.40296</td><td>7.90e+10</td><td>14.63698</td><td>1.67e+11</td><td>13.75305</td><td>5.44</td><td>87.328</td><td>28910601</td></tr>\n",
       "</tbody>\n",
       "</table>\n"
      ],
      "text/latex": [
       "A data.frame: 6 × 19\n",
       "\\begin{tabular}{r|lllllllllllllllllll}\n",
       "  & id & country & year & gdp\\_per\\_capita & million\\_population & cpi & exchange\\_rate & land\\_area & tourism\\_expenditures & exports\\_percentage & labor\\_force & national\\_expenditures\\_percentage & capital\\_formulation & capital\\_formulation\\_percentage & adj\\_national\\_income & trade\\_percentage & unemployment & urban\\_pop\\_percentage & urban\\_pop\\\\\n",
       "  & <int> & <chr> & <int> & <dbl> & <dbl> & <dbl> & <dbl> & <dbl> & <dbl> & <dbl> & <int> & <dbl> & <dbl> & <dbl> & <dbl> & <dbl> & <dbl> & <dbl> & <dbl>\\\\\n",
       "\\hline\n",
       "\t1 & 1 & Argentina & 1986 & 3607.821 & 30.75760 & -0.1 & 0.000094 & 2736690 &  9.738351 &  8.161978 &  1281793 & 98.16208 & 5.20e+10 & 17.46176 & 9.75e+10 & 14.48603 & 3.80 & 85.445 & 26272907\\\\\n",
       "\t2 & 1 & Argentina & 1987 & 3559.219 & 31.21467 &  0.8 & 0.000214 & 2736690 & 11.651680 &  7.873206 & 13075206 & 99.70256 & 5.18e+10 & 19.55487 & 9.69e+10 & 15.44897 & 4.68 & 85.843 & 26797140\\\\\n",
       "\t3 & 1 & Argentina & 1988 & 3982.444 & 31.67315 &  0.3 & 0.000875 & 2736690 & 13.905003 &  9.531613 & 13349351 & 96.68023 & 6.60e+10 & 18.64004 & 1.11e+11 & 15.74346 & 7.95 & 86.233 & 27327921\\\\\n",
       "\t4 & 1 & Argentina & 1989 & 2382.561 & 32.12968 &  0.5 & 0.042334 & 2736690 & 16.011237 & 13.058409 & 13417468 & 93.52114 & 8.88e+10 & 15.51470 & 6.19e+10 & 19.63780 & 4.92 & 86.613 & 27859735\\\\\n",
       "\t5 & 1 & Argentina & 1990 & 4330.959 & 32.58085 & -0.6 & 0.487589 & 2736690 & 18.325249 & 10.359537 & 13631248 & 94.27178 & 9.01e+10 & 13.99698 & 1.20e+11 & 14.99086 & 5.23 & 86.984 & 28389540\\\\\n",
       "\t6 & 1 & Argentina & 1991 & 5730.724 & 33.02855 & -1.2 & 0.953554 & 2736690 & 20.057398 &  7.675043 & 13851438 & 98.40296 & 7.90e+10 & 14.63698 & 1.67e+11 & 13.75305 & 5.44 & 87.328 & 28910601\\\\\n",
       "\\end{tabular}\n"
      ],
      "text/markdown": [
       "\n",
       "A data.frame: 6 × 19\n",
       "\n",
       "| <!--/--> | id &lt;int&gt; | country &lt;chr&gt; | year &lt;int&gt; | gdp_per_capita &lt;dbl&gt; | million_population &lt;dbl&gt; | cpi &lt;dbl&gt; | exchange_rate &lt;dbl&gt; | land_area &lt;dbl&gt; | tourism_expenditures &lt;dbl&gt; | exports_percentage &lt;dbl&gt; | labor_force &lt;int&gt; | national_expenditures_percentage &lt;dbl&gt; | capital_formulation &lt;dbl&gt; | capital_formulation_percentage &lt;dbl&gt; | adj_national_income &lt;dbl&gt; | trade_percentage &lt;dbl&gt; | unemployment &lt;dbl&gt; | urban_pop_percentage &lt;dbl&gt; | urban_pop &lt;dbl&gt; |\n",
       "|---|---|---|---|---|---|---|---|---|---|---|---|---|---|---|---|---|---|---|---|\n",
       "| 1 | 1 | Argentina | 1986 | 3607.821 | 30.75760 | -0.1 | 0.000094 | 2736690 |  9.738351 |  8.161978 |  1281793 | 98.16208 | 5.20e+10 | 17.46176 | 9.75e+10 | 14.48603 | 3.80 | 85.445 | 26272907 |\n",
       "| 2 | 1 | Argentina | 1987 | 3559.219 | 31.21467 |  0.8 | 0.000214 | 2736690 | 11.651680 |  7.873206 | 13075206 | 99.70256 | 5.18e+10 | 19.55487 | 9.69e+10 | 15.44897 | 4.68 | 85.843 | 26797140 |\n",
       "| 3 | 1 | Argentina | 1988 | 3982.444 | 31.67315 |  0.3 | 0.000875 | 2736690 | 13.905003 |  9.531613 | 13349351 | 96.68023 | 6.60e+10 | 18.64004 | 1.11e+11 | 15.74346 | 7.95 | 86.233 | 27327921 |\n",
       "| 4 | 1 | Argentina | 1989 | 2382.561 | 32.12968 |  0.5 | 0.042334 | 2736690 | 16.011237 | 13.058409 | 13417468 | 93.52114 | 8.88e+10 | 15.51470 | 6.19e+10 | 19.63780 | 4.92 | 86.613 | 27859735 |\n",
       "| 5 | 1 | Argentina | 1990 | 4330.959 | 32.58085 | -0.6 | 0.487589 | 2736690 | 18.325249 | 10.359537 | 13631248 | 94.27178 | 9.01e+10 | 13.99698 | 1.20e+11 | 14.99086 | 5.23 | 86.984 | 28389540 |\n",
       "| 6 | 1 | Argentina | 1991 | 5730.724 | 33.02855 | -1.2 | 0.953554 | 2736690 | 20.057398 |  7.675043 | 13851438 | 98.40296 | 7.90e+10 | 14.63698 | 1.67e+11 | 13.75305 | 5.44 | 87.328 | 28910601 |\n",
       "\n"
      ],
      "text/plain": [
       "  id country   year gdp_per_capita million_population cpi  exchange_rate\n",
       "1 1  Argentina 1986 3607.821       30.75760           -0.1 0.000094     \n",
       "2 1  Argentina 1987 3559.219       31.21467            0.8 0.000214     \n",
       "3 1  Argentina 1988 3982.444       31.67315            0.3 0.000875     \n",
       "4 1  Argentina 1989 2382.561       32.12968            0.5 0.042334     \n",
       "5 1  Argentina 1990 4330.959       32.58085           -0.6 0.487589     \n",
       "6 1  Argentina 1991 5730.724       33.02855           -1.2 0.953554     \n",
       "  land_area tourism_expenditures exports_percentage labor_force\n",
       "1 2736690    9.738351             8.161978           1281793   \n",
       "2 2736690   11.651680             7.873206          13075206   \n",
       "3 2736690   13.905003             9.531613          13349351   \n",
       "4 2736690   16.011237            13.058409          13417468   \n",
       "5 2736690   18.325249            10.359537          13631248   \n",
       "6 2736690   20.057398             7.675043          13851438   \n",
       "  national_expenditures_percentage capital_formulation\n",
       "1 98.16208                         5.20e+10           \n",
       "2 99.70256                         5.18e+10           \n",
       "3 96.68023                         6.60e+10           \n",
       "4 93.52114                         8.88e+10           \n",
       "5 94.27178                         9.01e+10           \n",
       "6 98.40296                         7.90e+10           \n",
       "  capital_formulation_percentage adj_national_income trade_percentage\n",
       "1 17.46176                       9.75e+10            14.48603        \n",
       "2 19.55487                       9.69e+10            15.44897        \n",
       "3 18.64004                       1.11e+11            15.74346        \n",
       "4 15.51470                       6.19e+10            19.63780        \n",
       "5 13.99698                       1.20e+11            14.99086        \n",
       "6 14.63698                       1.67e+11            13.75305        \n",
       "  unemployment urban_pop_percentage urban_pop\n",
       "1 3.80         85.445               26272907 \n",
       "2 4.68         85.843               26797140 \n",
       "3 7.95         86.233               27327921 \n",
       "4 4.92         86.613               27859735 \n",
       "5 5.23         86.984               28389540 \n",
       "6 5.44         87.328               28910601 "
      ]
     },
     "metadata": {},
     "output_type": "display_data"
    }
   ],
   "source": [
    "data <- read.csv(\"https://tinyurl.com/ss154-final\")\n",
    "data$adj_national_income <- as.numeric(data$adj_national_income)\n",
    "head(data)"
   ]
  },
  {
   "attachments": {},
   "cell_type": "markdown",
   "metadata": {},
   "source": [
    "# Synthetic control analysis"
   ]
  },
  {
   "cell_type": "code",
   "execution_count": 3,
   "metadata": {
    "vscode": {
     "languageId": "r"
    }
   },
   "outputs": [],
   "source": [
    "treated_unit <- \"Australia\"\n",
    "control_units <- c(\"Argentina\", \"Brazil\", \"Denmark\", \"Japan\", \"Korea\", \"Malaysia\", \"Mexico\", \"New Zealand\", \"Singapore\", \"South Africa\", \"Sweden\", \"Switzerland\", \"United Kingdom\")\n",
    "left_out <- c(\"capital_formulation_percentage\",  \"urban_pop_percentage\")\n",
    "dataprep.out <-\n",
    "    dataprep(foo = data,\n",
    "             predictors = c(\"million_population\", \"cpi\", \"exchange_rate\",\n",
    "                            \"land_area\", \"tourism_expenditures\", \"exports_percentage\", \"labor_force\", \n",
    "                            \"national_expenditures_percentage\", \"capital_formulation\", \n",
    "                            \"adj_national_income\", \"trade_percentage\", \"unemployment\", \"urban_pop\") ,\n",
    "             predictors.op = \"mean\" ,\n",
    "             time.predictors.prior = 1986:2000 ,\n",
    "             dependent = \"gdp_per_capita\",\n",
    "             unit.variable = \"id\",\n",
    "             unit.names.variable = \"country\",\n",
    "             time.variable = \"year\",\n",
    "             treatment.identifier = treated_unit,\n",
    "             controls.identifier = control_units,\n",
    "             time.optimize.ssr = 1986:2000,\n",
    "             time.plot = 1986:2005\n",
    "    )"
   ]
  },
  {
   "attachments": {},
   "cell_type": "markdown",
   "metadata": {},
   "source": [
    "## Weight matrix of countries"
   ]
  },
  {
   "cell_type": "code",
   "execution_count": 4,
   "metadata": {
    "vscode": {
     "languageId": "r"
    }
   },
   "outputs": [
    {
     "name": "stdout",
     "output_type": "stream",
     "text": [
      "\n",
      "X1, X0, Z1, Z0 all come directly from dataprep object.\n",
      "\n",
      "\n",
      "**************** \n",
      " searching for synthetic control unit  \n",
      " \n",
      "\n",
      "**************** \n",
      "**************** \n",
      "**************** \n",
      "\n",
      "MSPE (LOSS V): 2265698 \n",
      "\n",
      "solution.v:\n",
      " 0.001870811 0.1041782 0.1815164 1.608e-07 2.378e-07 8.197e-07 9.01e-08 0.3760402 0.3285852 5.56e-08 2.2654e-06 2.6208e-06 0.007802964 \n",
      "\n",
      "solution.w:\n",
      " 0.008674273 0.002396656 0.003636231 0.003151093 0.00283234 0.001636045 0.002428389 0.4722266 0.003770895 0.005607059 0.02044498 0.008176882 0.4650186 \n",
      "\n"
     ]
    },
    {
     "data": {
      "text/html": [
       "<table class=\"dataframe\">\n",
       "<caption>A data.frame: 13 × 3</caption>\n",
       "<thead>\n",
       "\t<tr><th></th><th scope=col>w.weights</th><th scope=col>unit.names</th><th scope=col>unit.numbers</th></tr>\n",
       "\t<tr><th></th><th scope=col>&lt;dbl&gt;</th><th scope=col>&lt;chr&gt;</th><th scope=col>&lt;int&gt;</th></tr>\n",
       "</thead>\n",
       "<tbody>\n",
       "\t<tr><th scope=row>1</th><td>0.009</td><td>Argentina     </td><td> 1</td></tr>\n",
       "\t<tr><th scope=row>3</th><td>0.002</td><td>Brazil        </td><td> 3</td></tr>\n",
       "\t<tr><th scope=row>4</th><td>0.004</td><td>Denmark       </td><td> 4</td></tr>\n",
       "\t<tr><th scope=row>5</th><td>0.003</td><td>Japan         </td><td> 5</td></tr>\n",
       "\t<tr><th scope=row>6</th><td>0.003</td><td>Korea         </td><td> 6</td></tr>\n",
       "\t<tr><th scope=row>7</th><td>0.002</td><td>Malaysia      </td><td> 7</td></tr>\n",
       "\t<tr><th scope=row>8</th><td>0.002</td><td>Mexico        </td><td> 8</td></tr>\n",
       "\t<tr><th scope=row>9</th><td>0.472</td><td>New Zealand   </td><td> 9</td></tr>\n",
       "\t<tr><th scope=row>10</th><td>0.004</td><td>Singapore     </td><td>10</td></tr>\n",
       "\t<tr><th scope=row>11</th><td>0.006</td><td>South Africa  </td><td>11</td></tr>\n",
       "\t<tr><th scope=row>12</th><td>0.020</td><td>Sweden        </td><td>12</td></tr>\n",
       "\t<tr><th scope=row>13</th><td>0.008</td><td>Switzerland   </td><td>13</td></tr>\n",
       "\t<tr><th scope=row>14</th><td>0.465</td><td>United Kingdom</td><td>14</td></tr>\n",
       "</tbody>\n",
       "</table>\n"
      ],
      "text/latex": [
       "A data.frame: 13 × 3\n",
       "\\begin{tabular}{r|lll}\n",
       "  & w.weights & unit.names & unit.numbers\\\\\n",
       "  & <dbl> & <chr> & <int>\\\\\n",
       "\\hline\n",
       "\t1 & 0.009 & Argentina      &  1\\\\\n",
       "\t3 & 0.002 & Brazil         &  3\\\\\n",
       "\t4 & 0.004 & Denmark        &  4\\\\\n",
       "\t5 & 0.003 & Japan          &  5\\\\\n",
       "\t6 & 0.003 & Korea          &  6\\\\\n",
       "\t7 & 0.002 & Malaysia       &  7\\\\\n",
       "\t8 & 0.002 & Mexico         &  8\\\\\n",
       "\t9 & 0.472 & New Zealand    &  9\\\\\n",
       "\t10 & 0.004 & Singapore      & 10\\\\\n",
       "\t11 & 0.006 & South Africa   & 11\\\\\n",
       "\t12 & 0.020 & Sweden         & 12\\\\\n",
       "\t13 & 0.008 & Switzerland    & 13\\\\\n",
       "\t14 & 0.465 & United Kingdom & 14\\\\\n",
       "\\end{tabular}\n"
      ],
      "text/markdown": [
       "\n",
       "A data.frame: 13 × 3\n",
       "\n",
       "| <!--/--> | w.weights &lt;dbl&gt; | unit.names &lt;chr&gt; | unit.numbers &lt;int&gt; |\n",
       "|---|---|---|---|\n",
       "| 1 | 0.009 | Argentina      |  1 |\n",
       "| 3 | 0.002 | Brazil         |  3 |\n",
       "| 4 | 0.004 | Denmark        |  4 |\n",
       "| 5 | 0.003 | Japan          |  5 |\n",
       "| 6 | 0.003 | Korea          |  6 |\n",
       "| 7 | 0.002 | Malaysia       |  7 |\n",
       "| 8 | 0.002 | Mexico         |  8 |\n",
       "| 9 | 0.472 | New Zealand    |  9 |\n",
       "| 10 | 0.004 | Singapore      | 10 |\n",
       "| 11 | 0.006 | South Africa   | 11 |\n",
       "| 12 | 0.020 | Sweden         | 12 |\n",
       "| 13 | 0.008 | Switzerland    | 13 |\n",
       "| 14 | 0.465 | United Kingdom | 14 |\n",
       "\n"
      ],
      "text/plain": [
       "   w.weights unit.names     unit.numbers\n",
       "1  0.009     Argentina       1          \n",
       "3  0.002     Brazil          3          \n",
       "4  0.004     Denmark         4          \n",
       "5  0.003     Japan           5          \n",
       "6  0.003     Korea           6          \n",
       "7  0.002     Malaysia        7          \n",
       "8  0.002     Mexico          8          \n",
       "9  0.472     New Zealand     9          \n",
       "10 0.004     Singapore      10          \n",
       "11 0.006     South Africa   11          \n",
       "12 0.020     Sweden         12          \n",
       "13 0.008     Switzerland    13          \n",
       "14 0.465     United Kingdom 14          "
      ]
     },
     "metadata": {},
     "output_type": "display_data"
    }
   ],
   "source": [
    "synth.out <- synth(data.prep.obj = dataprep.out)\n",
    "synth.tables <- synth.tab(dataprep.res = dataprep.out,\n",
    "                          synth.res = synth.out\n",
    ")\n",
    "synth.tables$tab.w[1:13, ]"
   ]
  },
  {
   "attachments": {},
   "cell_type": "markdown",
   "metadata": {},
   "source": [
    "### Variable balance between treated unit and synthetic control"
   ]
  },
  {
   "cell_type": "code",
   "execution_count": 5,
   "metadata": {
    "vscode": {
     "languageId": "r"
    }
   },
   "outputs": [
    {
     "data": {
      "text/html": [
       "<table class=\"dataframe\">\n",
       "<caption>A matrix: 13 × 3 of type dbl</caption>\n",
       "<thead>\n",
       "\t<tr><th></th><th scope=col>Treated</th><th scope=col>Synthetic</th><th scope=col>Sample Mean</th></tr>\n",
       "</thead>\n",
       "<tbody>\n",
       "\t<tr><th scope=row>million_population</th><td>1.760000e+01</td><td>3.046300e+01</td><td>4.566300e+01</td></tr>\n",
       "\t<tr><th scope=row>cpi</th><td>4.123000e+00</td><td>5.762000e+00</td><td>6.161200e+01</td></tr>\n",
       "\t<tr><th scope=row>exchange_rate</th><td>1.405000e+00</td><td>4.223000e+00</td><td>7.968200e+01</td></tr>\n",
       "\t<tr><th scope=row>land_area</th><td>7.682300e+06</td><td>3.028956e+05</td><td>1.233402e+06</td></tr>\n",
       "\t<tr><th scope=row>tourism_expenditures</th><td>1.003500e+01</td><td>1.067400e+01</td><td>7.584000e+00</td></tr>\n",
       "\t<tr><th scope=row>exports_percentage</th><td>1.719800e+01</td><td>2.744700e+01</td><td>4.024900e+01</td></tr>\n",
       "\t<tr><th scope=row>labor_force</th><td>8.783416e+06</td><td>1.520689e+07</td><td>2.060971e+07</td></tr>\n",
       "\t<tr><th scope=row>national_expenditures_percentage</th><td>1.012830e+02</td><td>1.012670e+02</td><td>9.762700e+01</td></tr>\n",
       "\t<tr><th scope=row>capital_formulation</th><td>3.903333e+10</td><td>3.892668e+10</td><td>1.660744e+11</td></tr>\n",
       "\t<tr><th scope=row>adj_national_income</th><td>2.586000e+11</td><td>5.255083e+11</td><td>4.824979e+11</td></tr>\n",
       "\t<tr><th scope=row>trade_percentage</th><td>3.555600e+01</td><td>5.402200e+01</td><td>7.752400e+01</td></tr>\n",
       "\t<tr><th scope=row>unemployment</th><td>8.239000e+00</td><td>7.720000e+00</td><td>6.632000e+00</td></tr>\n",
       "\t<tr><th scope=row>urban_pop</th><td>1.496485e+07</td><td>2.392040e+07</td><td>3.422369e+07</td></tr>\n",
       "</tbody>\n",
       "</table>\n"
      ],
      "text/latex": [
       "A matrix: 13 × 3 of type dbl\n",
       "\\begin{tabular}{r|lll}\n",
       "  & Treated & Synthetic & Sample Mean\\\\\n",
       "\\hline\n",
       "\tmillion\\_population & 1.760000e+01 & 3.046300e+01 & 4.566300e+01\\\\\n",
       "\tcpi & 4.123000e+00 & 5.762000e+00 & 6.161200e+01\\\\\n",
       "\texchange\\_rate & 1.405000e+00 & 4.223000e+00 & 7.968200e+01\\\\\n",
       "\tland\\_area & 7.682300e+06 & 3.028956e+05 & 1.233402e+06\\\\\n",
       "\ttourism\\_expenditures & 1.003500e+01 & 1.067400e+01 & 7.584000e+00\\\\\n",
       "\texports\\_percentage & 1.719800e+01 & 2.744700e+01 & 4.024900e+01\\\\\n",
       "\tlabor\\_force & 8.783416e+06 & 1.520689e+07 & 2.060971e+07\\\\\n",
       "\tnational\\_expenditures\\_percentage & 1.012830e+02 & 1.012670e+02 & 9.762700e+01\\\\\n",
       "\tcapital\\_formulation & 3.903333e+10 & 3.892668e+10 & 1.660744e+11\\\\\n",
       "\tadj\\_national\\_income & 2.586000e+11 & 5.255083e+11 & 4.824979e+11\\\\\n",
       "\ttrade\\_percentage & 3.555600e+01 & 5.402200e+01 & 7.752400e+01\\\\\n",
       "\tunemployment & 8.239000e+00 & 7.720000e+00 & 6.632000e+00\\\\\n",
       "\turban\\_pop & 1.496485e+07 & 2.392040e+07 & 3.422369e+07\\\\\n",
       "\\end{tabular}\n"
      ],
      "text/markdown": [
       "\n",
       "A matrix: 13 × 3 of type dbl\n",
       "\n",
       "| <!--/--> | Treated | Synthetic | Sample Mean |\n",
       "|---|---|---|---|\n",
       "| million_population | 1.760000e+01 | 3.046300e+01 | 4.566300e+01 |\n",
       "| cpi | 4.123000e+00 | 5.762000e+00 | 6.161200e+01 |\n",
       "| exchange_rate | 1.405000e+00 | 4.223000e+00 | 7.968200e+01 |\n",
       "| land_area | 7.682300e+06 | 3.028956e+05 | 1.233402e+06 |\n",
       "| tourism_expenditures | 1.003500e+01 | 1.067400e+01 | 7.584000e+00 |\n",
       "| exports_percentage | 1.719800e+01 | 2.744700e+01 | 4.024900e+01 |\n",
       "| labor_force | 8.783416e+06 | 1.520689e+07 | 2.060971e+07 |\n",
       "| national_expenditures_percentage | 1.012830e+02 | 1.012670e+02 | 9.762700e+01 |\n",
       "| capital_formulation | 3.903333e+10 | 3.892668e+10 | 1.660744e+11 |\n",
       "| adj_national_income | 2.586000e+11 | 5.255083e+11 | 4.824979e+11 |\n",
       "| trade_percentage | 3.555600e+01 | 5.402200e+01 | 7.752400e+01 |\n",
       "| unemployment | 8.239000e+00 | 7.720000e+00 | 6.632000e+00 |\n",
       "| urban_pop | 1.496485e+07 | 2.392040e+07 | 3.422369e+07 |\n",
       "\n"
      ],
      "text/plain": [
       "                                 Treated      Synthetic    Sample Mean \n",
       "million_population               1.760000e+01 3.046300e+01 4.566300e+01\n",
       "cpi                              4.123000e+00 5.762000e+00 6.161200e+01\n",
       "exchange_rate                    1.405000e+00 4.223000e+00 7.968200e+01\n",
       "land_area                        7.682300e+06 3.028956e+05 1.233402e+06\n",
       "tourism_expenditures             1.003500e+01 1.067400e+01 7.584000e+00\n",
       "exports_percentage               1.719800e+01 2.744700e+01 4.024900e+01\n",
       "labor_force                      8.783416e+06 1.520689e+07 2.060971e+07\n",
       "national_expenditures_percentage 1.012830e+02 1.012670e+02 9.762700e+01\n",
       "capital_formulation              3.903333e+10 3.892668e+10 1.660744e+11\n",
       "adj_national_income              2.586000e+11 5.255083e+11 4.824979e+11\n",
       "trade_percentage                 3.555600e+01 5.402200e+01 7.752400e+01\n",
       "unemployment                     8.239000e+00 7.720000e+00 6.632000e+00\n",
       "urban_pop                        1.496485e+07 2.392040e+07 3.422369e+07"
      ]
     },
     "metadata": {},
     "output_type": "display_data"
    }
   ],
   "source": [
    "synth.tables$tab.pred[1:13, ]"
   ]
  },
  {
   "attachments": {},
   "cell_type": "markdown",
   "metadata": {},
   "source": [
    "# Path and Gaps plot"
   ]
  },
  {
   "cell_type": "code",
   "execution_count": 6,
   "metadata": {
    "vscode": {
     "languageId": "r"
    }
   },
   "outputs": [
    {
     "data": {
      "image/png": "[encoded data removed]",
      "text/plain": [
       "Plot with title \"NA\""
      ]
     },
     "metadata": {
      "image/png": {
       "height": 420,
       "width": 420
      }
     },
     "output_type": "display_data"
    },
    {
     "data": {
      "image/png": "[encoded data removed]",
      "text/plain": [
       "Plot with title \"Gaps: Treated - Synthetic\""
      ]
     },
     "metadata": {
      "image/png": {
       "height": 420,
       "width": 420
      }
     },
     "output_type": "display_data"
    }
   ],
   "source": [
    "path.plot(synth.res = synth.out,\n",
    "          dataprep.res = dataprep.out,\n",
    "          Ylab = \"GDP per capita\",\n",
    "          Xlab = \"Year\",\n",
    "          Legend = c(\"Australia\",\"synthetic Australia\"),\n",
    "          Legend.position = \"bottomright\"\n",
    ")\n",
    "# Add line for year = 2000 in the plot\n",
    "abline(v = 2000, lty = 2, col = \"red\")\n",
    "gaps.plot(synth.res = synth.out,\n",
    "          dataprep.res = dataprep.out,\n",
    "          Ylab = \"GDP per capita\",\n",
    "          Xlab = \"Year\",\n",
    ")"
   ]
  },
  {
   "attachments": {},
   "cell_type": "markdown",
   "metadata": {},
   "source": [
    "## Table showing weights of variables to outcome prediction"
   ]
  },
  {
   "cell_type": "code",
   "execution_count": 7,
   "metadata": {
    "vscode": {
     "languageId": "r"
    }
   },
   "outputs": [
    {
     "data": {
      "text/html": [
       "<table class=\"dataframe\">\n",
       "<caption>A matrix: 13 × 1</caption>\n",
       "<thead>\n",
       "\t<tr><th></th><th scope=col>v.weights</th></tr>\n",
       "\t<tr><th></th><th scope=col>&lt;dbl&gt;</th><th scope=col>&lt;dbl&gt;</th><th scope=col>&lt;dbl&gt;</th><th scope=col>&lt;dbl&gt;</th><th scope=col>&lt;dbl&gt;</th><th scope=col>&lt;dbl&gt;</th><th scope=col>&lt;dbl&gt;</th><th scope=col>&lt;dbl&gt;</th><th scope=col>&lt;dbl&gt;</th><th scope=col>&lt;dbl&gt;</th><th scope=col>&lt;dbl&gt;</th><th scope=col>&lt;dbl&gt;</th><th scope=col>&lt;dbl&gt;</th></tr>\n",
       "</thead>\n",
       "<tbody>\n",
       "\t<tr><th scope=row>million_population</th><td>0.002</td></tr>\n",
       "\t<tr><th scope=row>cpi</th><td>0.104</td></tr>\n",
       "\t<tr><th scope=row>exchange_rate</th><td>0.182</td></tr>\n",
       "\t<tr><th scope=row>land_area</th><td>0</td></tr>\n",
       "\t<tr><th scope=row>tourism_expenditures</th><td>0</td></tr>\n",
       "\t<tr><th scope=row>exports_percentage</th><td>0</td></tr>\n",
       "\t<tr><th scope=row>labor_force</th><td>0</td></tr>\n",
       "\t<tr><th scope=row>national_expenditures_percentage</th><td>0.376</td></tr>\n",
       "\t<tr><th scope=row>capital_formulation</th><td>0.329</td></tr>\n",
       "\t<tr><th scope=row>adj_national_income</th><td>0</td></tr>\n",
       "\t<tr><th scope=row>trade_percentage</th><td>0</td></tr>\n",
       "\t<tr><th scope=row>unemployment</th><td>0</td></tr>\n",
       "\t<tr><th scope=row>urban_pop</th><td>0.008</td></tr>\n",
       "</tbody>\n",
       "</table>\n"
      ],
      "text/latex": [
       "A matrix: 13 × 1\n",
       "\\begin{tabular}{r|l}\n",
       "  & v.weights\\\\\n",
       "  & <dbl> & <dbl> & <dbl> & <dbl> & <dbl> & <dbl> & <dbl> & <dbl> & <dbl> & <dbl> & <dbl> & <dbl> & <dbl>\\\\\n",
       "\\hline\n",
       "\tmillion\\_population & 0.002\\\\\n",
       "\tcpi & 0.104\\\\\n",
       "\texchange\\_rate & 0.182\\\\\n",
       "\tland\\_area & 0\\\\\n",
       "\ttourism\\_expenditures & 0\\\\\n",
       "\texports\\_percentage & 0\\\\\n",
       "\tlabor\\_force & 0\\\\\n",
       "\tnational\\_expenditures\\_percentage & 0.376\\\\\n",
       "\tcapital\\_formulation & 0.329\\\\\n",
       "\tadj\\_national\\_income & 0\\\\\n",
       "\ttrade\\_percentage & 0\\\\\n",
       "\tunemployment & 0\\\\\n",
       "\turban\\_pop & 0.008\\\\\n",
       "\\end{tabular}\n"
      ],
      "text/markdown": [
       "\n",
       "A matrix: 13 × 1\n",
       "\n",
       "| <!--/--> | v.weights &lt;dbl&gt; | v.weights &lt;dbl&gt; | v.weights &lt;dbl&gt; | v.weights &lt;dbl&gt; | v.weights &lt;dbl&gt; | v.weights &lt;dbl&gt; | v.weights &lt;dbl&gt; | v.weights &lt;dbl&gt; | v.weights &lt;dbl&gt; | v.weights &lt;dbl&gt; | v.weights &lt;dbl&gt; | v.weights &lt;dbl&gt; | v.weights &lt;dbl&gt; |\n",
       "|---|---|\n",
       "| million_population | 0.002 |\n",
       "| cpi | 0.104 |\n",
       "| exchange_rate | 0.182 |\n",
       "| land_area | 0 |\n",
       "| tourism_expenditures | 0 |\n",
       "| exports_percentage | 0 |\n",
       "| labor_force | 0 |\n",
       "| national_expenditures_percentage | 0.376 |\n",
       "| capital_formulation | 0.329 |\n",
       "| adj_national_income | 0 |\n",
       "| trade_percentage | 0 |\n",
       "| unemployment | 0 |\n",
       "| urban_pop | 0.008 |\n",
       "\n"
      ],
      "text/plain": [
       "                                 v.weights\n",
       "million_population               0.002    \n",
       "cpi                              0.104    \n",
       "exchange_rate                    0.182    \n",
       "land_area                        0        \n",
       "tourism_expenditures             0        \n",
       "exports_percentage               0        \n",
       "labor_force                      0        \n",
       "national_expenditures_percentage 0.376    \n",
       "capital_formulation              0.329    \n",
       "adj_national_income              0        \n",
       "trade_percentage                 0        \n",
       "unemployment                     0        \n",
       "urban_pop                        0.008    "
      ]
     },
     "metadata": {},
     "output_type": "display_data"
    }
   ],
   "source": [
    "synth.tables$tab.v"
   ]
  },
  {
   "attachments": {},
   "cell_type": "markdown",
   "metadata": {},
   "source": [
    "# Measurement of gaps between treated unit and synthetic control at each year"
   ]
  },
  {
   "cell_type": "code",
   "execution_count": 11,
   "metadata": {
    "vscode": {
     "languageId": "r"
    }
   },
   "outputs": [
    {
     "data": {
      "text/html": [
       "-1617.34246223756"
      ],
      "text/latex": [
       "-1617.34246223756"
      ],
      "text/markdown": [
       "-1617.34246223756"
      ],
      "text/plain": [
       "[1] -1617.342"
      ]
     },
     "metadata": {},
     "output_type": "display_data"
    }
   ],
   "source": [
    "gaps <- (dataprep.out$Y1plot - (dataprep.out$Y0plot%*%synth.out$solution.w))\n",
    "mean(gaps[15:20, ])"
   ]
  },
  {
   "attachments": {},
   "cell_type": "markdown",
   "metadata": {},
   "source": [
    "# Robustness tests"
   ]
  },
  {
   "attachments": {},
   "cell_type": "markdown",
   "metadata": {},
   "source": [
    "### In-place placebo"
   ]
  },
  {
   "cell_type": "code",
   "execution_count": 9,
   "metadata": {
    "vscode": {
     "languageId": "r"
    }
   },
   "outputs": [
    {
     "name": "stdout",
     "output_type": "stream",
     "text": [
      "\n",
      "X1, X0, Z1, Z0 all come directly from dataprep object.\n",
      "\n",
      "\n",
      "**************** \n",
      " searching for synthetic control unit  \n",
      " \n",
      "\n",
      "**************** \n",
      "**************** \n",
      "**************** \n",
      "\n",
      "MSPE (LOSS V): 8104434 \n",
      "\n",
      "solution.v:\n",
      " 0.05882433 0.05160584 0.05621015 0.2156805 0.1717478 0.05694398 0.02818541 0.0008203401 0.0001861408 0.1395087 0.02692491 0.1170112 0.0763507 \n",
      "\n",
      "solution.w:\n",
      " 0.1391456 8.3e-07 0.3030295 2.8452e-06 0.0001012799 1.381e-06 1.2823e-06 0.1165853 8.896e-07 1.0901e-06 0.4181996 0.0229304 \n",
      "\n"
     ]
    },
    {
     "data": {
      "image/png": "[encoded data removed]",
      "text/plain": [
       "Plot with title \"NA\""
      ]
     },
     "metadata": {
      "image/png": {
       "height": 420,
       "width": 420
      }
     },
     "output_type": "display_data"
    }
   ],
   "source": [
    "treated_unit <- \"Sweden\"\n",
    "control_units <- c(\"Argentina\",\"Brazil\", \"Denmark\", \"Japan\", \"Korea\", \"Malaysia\",  \"Mexico\", \"New Zealand\", \"Singapore\",\"South Africa\", \"Switzerland\", \"United Kingdom\")\n",
    "dataprep.out.sweden <-\n",
    "    dataprep(foo = data,\n",
    "             predictors = c(\"million_population\", \"cpi\", \"exchange_rate\",\n",
    "                            \"land_area\", \"tourism_expenditures\", \"exports_percentage\", \"labor_force\", \n",
    "                            \"national_expenditures_percentage\", \"capital_formulation\", \n",
    "                            \"adj_national_income\", \"trade_percentage\", \"unemployment\", \"urban_pop\") ,\n",
    "             predictors.op = \"mean\" ,\n",
    "             time.predictors.prior = 1986:2000 ,\n",
    "             dependent = \"gdp_per_capita\",\n",
    "             unit.variable = \"id\",\n",
    "             unit.names.variable = \"country\",\n",
    "             time.variable = \"year\",\n",
    "             treatment.identifier = treated_unit,\n",
    "             controls.identifier = control_units,\n",
    "             time.optimize.ssr = 1986:2000,\n",
    "             time.plot = 1986:2005\n",
    "    )\n",
    "synth.out.sweden <- synth(data.prep.obj = dataprep.out.sweden)\n",
    "path.plot(synth.res = synth.out.sweden,\n",
    "          dataprep.res = dataprep.out.sweden,\n",
    "          Ylab = \"GDP per capita\",\n",
    "          Xlab = \"Year\",\n",
    "          Legend = c(\"Sweden\",\"synthetic Sweden\"),\n",
    "          Legend.position = \"bottomright\"\n",
    ")\n",
    "# Add line for year = 2000 in the plot\n",
    "abline(v = 2000, lty = 2, col = \"red\")"
   ]
  },
  {
   "attachments": {},
   "cell_type": "markdown",
   "metadata": {},
   "source": [
    "### In-time placebo tests"
   ]
  },
  {
   "cell_type": "code",
   "execution_count": 10,
   "metadata": {
    "vscode": {
     "languageId": "r"
    }
   },
   "outputs": [
    {
     "name": "stdout",
     "output_type": "stream",
     "text": [
      "\n",
      "X1, X0, Z1, Z0 all come directly from dataprep object.\n",
      "\n",
      "\n",
      "**************** \n",
      " searching for synthetic control unit  \n",
      " \n",
      "\n",
      "**************** \n",
      "**************** \n",
      "**************** \n",
      "\n",
      "MSPE (LOSS V): 1155690 \n",
      "\n",
      "solution.v:\n",
      " 4.964e-07 0.0290801 0.01535669 0.0003707878 0.7842064 5.273e-07 1.4177e-06 0.0564572 1.4084e-05 0.04700631 0.006772869 0.05270007 0.008033039 \n",
      "\n",
      "solution.w:\n",
      " 0.002046015 0.004674388 0.001344786 0.000571094 0.005231499 5.8131e-06 0.05292125 0.2086643 0.0008240092 0.1403902 0.3192493 0.001196414 0.2628809 \n",
      "\n"
     ]
    },
    {
     "data": {
      "image/png": "[encoded data removed]",
      "text/plain": [
       "Plot with title \"NA\""
      ]
     },
     "metadata": {
      "image/png": {
       "height": 420,
       "width": 420
      }
     },
     "output_type": "display_data"
    }
   ],
   "source": [
    "treated_unit <- \"Australia\"\n",
    "control_units <- c(\"Argentina\",\"Brazil\", \"Denmark\", \"Japan\", \"Korea\", \"Malaysia\",  \"Mexico\", \"New Zealand\", \"Singapore\", \"South Africa\", \"Sweden\", \"Switzerland\", \"United Kingdom\")\n",
    "dataprep.out.1995 <-\n",
    "    dataprep(foo = data,\n",
    "             predictors = c(\"million_population\", \"cpi\", \"exchange_rate\",\n",
    "                            \"land_area\", \"tourism_expenditures\", \"exports_percentage\", \"labor_force\", \n",
    "                            \"national_expenditures_percentage\", \"capital_formulation\", \n",
    "                            \"adj_national_income\", \"trade_percentage\", \"unemployment\", \"urban_pop\") ,\n",
    "             predictors.op = \"mean\" ,\n",
    "             time.predictors.prior = 1986:1995 ,\n",
    "             dependent = \"gdp_per_capita\",\n",
    "             unit.variable = \"id\",\n",
    "             unit.names.variable = \"country\",\n",
    "             time.variable = \"year\",\n",
    "             treatment.identifier = treated_unit,\n",
    "             controls.identifier = control_units,\n",
    "             time.optimize.ssr = 1986:1995,\n",
    "             time.plot = 1986:2000\n",
    "    )\n",
    "synth.out.1995 <- synth(data.prep.obj = dataprep.out.1995)\n",
    "path.plot(synth.res = synth.out.1995,\n",
    "          dataprep.res = dataprep.out.1995,\n",
    "          Ylab = \"GDP per capita\",\n",
    "          Xlab = \"Year\",\n",
    "          Legend = c(\"Australia\",\"synthetic Australia\"),\n",
    "          Legend.position = \"bottomright\"\n",
    ")\n",
    "# Add line for year = 2000 in the plot\n",
    "abline(v = 1995, lty = 2, col = \"red\")"
   ]
  }
 ],
 "metadata": {
  "kernelspec": {
   "display_name": "R",
   "language": "R",
   "name": "ir"
  },
  "language_info": {
   "codemirror_mode": "r",
   "file_extension": ".r",
   "mimetype": "text/x-r-source",
   "name": "R",
   "pygments_lexer": "r",
   "version": "4.1.2"
  },
  "orig_nbformat": 4
 },
 "nbformat": 4,
 "nbformat_minor": 2
}
